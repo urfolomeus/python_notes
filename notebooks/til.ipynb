{
 "cells": [
  {
   "cell_type": "markdown",
   "metadata": {},
   "source": [
    "In order to execute some of the code examples below we need to install some requirements. See [../docs/using-jupyter-notebooks.md](../docs/using-jupyter-notebooks.md) for more information. See the import section below for the imports that this notebook relies on."
   ]
  },
  {
   "cell_type": "markdown",
   "metadata": {},
   "source": [
    "# Today I learned\n",
    "\n",
    "These are some interesting things that I've picked up about Python."
   ]
  },
  {
   "cell_type": "code",
   "execution_count": 13,
   "metadata": {},
   "outputs": [],
   "source": [
    "# we'll use pytest to help us to catch and reason about exceptions\n",
    "import pytest"
   ]
  },
  {
   "cell_type": "markdown",
   "metadata": {},
   "source": [
    "## Tuples\n",
    "\n",
    "Tuples are data structures that can contain one or more values of any type. They are defined by surrounding a comma separated list of values with round brackets, a.k.a parentheses.\n",
    "The only difference between tuples and lists are that tuples are immutable. You cannot append, change or remove individual members within a tuple."
   ]
  },
  {
   "cell_type": "code",
   "execution_count": 14,
   "metadata": {},
   "outputs": [
    {
     "output_type": "stream",
     "name": "stdout",
     "text": [
      "My list is now: [2, 'b', True]\nThrew exception: \"TypeError: 'tuple' object does not support item assignment\"\n"
     ]
    }
   ],
   "source": [
    "my_list = [1, 'a', True]\n",
    "\n",
    "my_list[0] += 1\n",
    "my_list[1] = 'b'\n",
    "\n",
    "print(f\"My list is now: {my_list}\")\n",
    "\n",
    "my_tuple = (1, 'a', True)\n",
    "\n",
    "with pytest.raises(TypeError) as exc_info:\n",
    "    my_tuple[0] += 1\n",
    "\n",
    "print(f\"Threw exception: \\\"{exc_info.type.__name__}: {exc_info.value}\\\"\")"
   ]
  },
  {
   "source": [
    "## Types\n",
    "\n",
    "Python, like Ruby, is a dynamically typed language. You do not need to declare the type of variables, function parameters, return values, etc. Every value that you create does have a type, you just don't need to set it."
   ],
   "cell_type": "markdown",
   "metadata": {}
  },
  {
   "cell_type": "code",
   "execution_count": 15,
   "metadata": {},
   "outputs": [
    {
     "output_type": "stream",
     "name": "stdout",
     "text": [
      "42.5\nTrue\n1.0\n4.2\n2\nFalse\nTrue\nabcdef\n"
     ]
    }
   ],
   "source": [
    "an_integer = 42\n",
    "a_float = 0.5\n",
    "a_boolean = True\n",
    "a_string = \"abc\"\n",
    "\n",
    "print(f\"{an_integer + a_float}\")\n",
    "print(f\"{an_integer >= a_float}\")\n",
    "print(f\"{a_float * 2}\")\n",
    "print(f\"{an_integer / 10}\")\n",
    "print(f\"{an_integer % 10}\")\n",
    "print(f\"{not a_boolean}\")\n",
    "print(f\"{a_boolean or False}\")\n",
    "print(f\"{a_string + 'def'}\")"
   ]
  },
  {
   "cell_type": "code",
   "execution_count": 16,
   "metadata": {},
   "outputs": [
    {
     "output_type": "stream",
     "name": "stdout",
     "text": [
      "False\nThrew exception: \"TypeError: can only concatenate str (not \"int\") to str\"\n"
     ]
    }
   ],
   "source": [
    "# Implicit cast from an integer to a boolean:\n",
    "print(f\"{not 10}\")\n",
    "\n",
    "# Failing implicit cast from an integer to a string:\n",
    "with pytest.raises(TypeError) as exc_info:\n",
    "    \"20\" + 20 # => TypeError: must be str, not int\n",
    "\n",
    "print(f\"Threw exception: \\\"{exc_info.type.__name__}: {exc_info.value}\\\"\")"
   ]
  },
  {
   "source": [
    "You can discover the type of a value using the built in `type` function. This returns the class of the value. You can get the string name of a class by calling `__name__`"
   ],
   "cell_type": "markdown",
   "metadata": {}
  },
  {
   "cell_type": "code",
   "execution_count": 17,
   "metadata": {},
   "outputs": [
    {
     "output_type": "stream",
     "name": "stdout",
     "text": [
      "<class 'int'>\n<class 'float'>\n<class 'bool'>\n<class 'str'>\n<class 'type'>\n"
     ]
    }
   ],
   "source": [
    "print(f\"{type(an_integer)}\")\n",
    "print(f\"{type(a_float)}\")\n",
    "print(f\"{type(a_boolean)}\")\n",
    "print(f\"{type(a_string)}\")\n",
    "print(f\"{type(TypeError)}\")"
   ]
  },
  {
   "cell_type": "code",
   "execution_count": 18,
   "metadata": {},
   "outputs": [
    {
     "output_type": "stream",
     "name": "stdout",
     "text": [
      "int\nfloat\nbool\nstr\ntype\n"
     ]
    }
   ],
   "source": [
    "print(f\"{type(an_integer).__name__}\")\n",
    "print(f\"{type(a_float).__name__}\")\n",
    "print(f\"{type(a_boolean).__name__}\")\n",
    "print(f\"{type(a_string).__name__}\")\n",
    "print(f\"{type(TypeError).__name__}\")"
   ]
  },
  {
   "cell_type": "code",
   "execution_count": null,
   "metadata": {},
   "outputs": [],
   "source": []
  }
 ],
 "metadata": {
  "kernelspec": {
   "display_name": "Python 3",
   "language": "python",
   "name": "python3"
  },
  "language_info": {
   "codemirror_mode": {
    "name": "ipython",
    "version": 3
   },
   "file_extension": ".py",
   "mimetype": "text/x-python",
   "name": "python",
   "nbconvert_exporter": "python",
   "pygments_lexer": "ipython3",
   "version": "3.8.6-final"
  }
 },
 "nbformat": 4,
 "nbformat_minor": 2
}