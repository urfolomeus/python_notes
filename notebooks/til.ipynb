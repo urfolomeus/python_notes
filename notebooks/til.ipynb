{
 "cells": [
  {
   "cell_type": "markdown",
   "metadata": {},
   "source": [
    "In order to execute some of the code examples below we need to install some requirements. See [../docs/using-jupyter-notebooks.md](../docs/using-jupyter-notebooks.md) for more information. See the import section below for the imports that this notebook relies on."
   ]
  },
  {
   "cell_type": "markdown",
   "metadata": {},
   "source": [
    "# Today I learned\n",
    "\n",
    "These are some interesting things that I've picked up about Python."
   ]
  },
  {
   "cell_type": "code",
   "execution_count": 1,
   "metadata": {},
   "outputs": [],
   "source": [
    "# we'll use pytest to help us to catch and reason about exceptions\n",
    "import pytest"
   ]
  },
  {
   "cell_type": "markdown",
   "metadata": {},
   "source": [
    "## Tuples\n",
    "\n",
    "Tuples are data structures that can contain one or more values of any type. They are defined by surrounding a comma separated list of values with round brackets, a.k.a parentheses.\n",
    "The only difference between tuples and lists are that tuples are immutable. You cannot append, change or remove individual members within a tuple."
   ]
  },
  {
   "cell_type": "code",
   "execution_count": 2,
   "metadata": {},
   "outputs": [
    {
     "name": "stdout",
     "output_type": "stream",
     "text": [
      "My list is now: [2, 'b', True]\n",
      "When attempting the above we see the error: \"'tuple' object does not support item assignment\"\n"
     ]
    }
   ],
   "source": [
    "my_list = [1, 'a', True]\n",
    "\n",
    "my_list[0] += 1\n",
    "my_list[1] = 'b'\n",
    "\n",
    "print(f\"My list is now: {my_list}\")\n",
    "\n",
    "my_tuple = (1, 'a', True)\n",
    "\n",
    "with pytest.raises(TypeError) as exc_info:\n",
    "    my_tuple[0] += 1\n",
    "\n",
    "print(f\"When attempting the above we see the error: \\\"{exc_info.value}\\\"\")"
   ]
  },
  {
   "cell_type": "code",
   "execution_count": null,
   "metadata": {},
   "outputs": [],
   "source": []
  }
 ],
 "metadata": {
  "kernelspec": {
   "display_name": "Python 3",
   "language": "python",
   "name": "python3"
  },
  "language_info": {
   "codemirror_mode": {
    "name": "ipython",
    "version": 3
   },
   "file_extension": ".py",
   "mimetype": "text/x-python",
   "name": "python",
   "nbconvert_exporter": "python",
   "pygments_lexer": "ipython3",
   "version": "3.8.6"
  }
 },
 "nbformat": 4,
 "nbformat_minor": 2
}